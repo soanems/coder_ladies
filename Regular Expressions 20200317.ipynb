{
 "cells": [
  {
   "cell_type": "code",
   "execution_count": 8,
   "metadata": {},
   "outputs": [
    {
     "name": "stdout",
     "output_type": "stream",
     "text": [
      "415-555-1011\n",
      "303.002\n"
     ]
    }
   ],
   "source": [
    "import re\n",
    "# https://docs.python.org/3/library/re.html # re documentation\n",
    "\n",
    "message = ' Call me at 415-555-1011 tomorrow, or at 415-565-8888. id it 303.002'\n",
    "\n",
    "phoneNumRegex = re.compile(r'\\d\\d\\d-\\d\\d\\d-\\d\\d\\d\\d')\n",
    "idNumRegex = re.compile(r'\\d\\d\\d\\.\\d\\d\\d')\n",
    " \n",
    "mo_phone = phoneNumRegex.search(message)\n",
    "mo_id = idNumRegex.search(message)\n",
    "print(mo_phone.group())\n",
    "print(mo_id.group())"
   ]
  },
  {
   "cell_type": "code",
   "execution_count": 12,
   "metadata": {
    "scrolled": true
   },
   "outputs": [
    {
     "name": "stdout",
     "output_type": "stream",
     "text": [
      "['415-555-1011', '415-565-8888']\n",
      "['303.002']\n"
     ]
    }
   ],
   "source": [
    "mo_phone2 = phoneNumRegex.findall(message)\n",
    "mo_id2 = idNumRegex.findall(message)\n",
    "print(mo_phone2)\n",
    "print(mo_id2)"
   ]
  },
  {
   "cell_type": "code",
   "execution_count": 15,
   "metadata": {},
   "outputs": [
    {
     "data": {
      "text/plain": [
       "'pe ratio'"
      ]
     },
     "execution_count": 15,
     "metadata": {},
     "output_type": "execute_result"
    }
   ],
   "source": [
    "ratioRegex = re.compile(r'(pe|de|cash) ratio')\n",
    "mo = ratioRegex.search('This pe ratio is high and the cash ratio is low.')\n",
    "mo.group()"
   ]
  },
  {
   "cell_type": "code",
   "execution_count": 16,
   "metadata": {},
   "outputs": [
    {
     "name": "stdout",
     "output_type": "stream",
     "text": [
      "['pe', 'cash']\n"
     ]
    }
   ],
   "source": [
    "ratioRegex = re.compile(r'(pe|de|cash) ratio')\n",
    "mo = ratioRegex.findall('This pe ratio is high and the cash ratio is low.')\n",
    "print(mo)"
   ]
  }
 ],
 "metadata": {
  "kernelspec": {
   "display_name": "Python [conda env:Anaconda3]",
   "language": "python",
   "name": "conda-env-Anaconda3-py"
  },
  "language_info": {
   "codemirror_mode": {
    "name": "ipython",
    "version": 3
   },
   "file_extension": ".py",
   "mimetype": "text/x-python",
   "name": "python",
   "nbconvert_exporter": "python",
   "pygments_lexer": "ipython3",
   "version": "3.6.6"
  }
 },
 "nbformat": 4,
 "nbformat_minor": 2
}
