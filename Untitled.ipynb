{
 "cells": [
  {
   "cell_type": "code",
   "execution_count": 3,
   "metadata": {},
   "outputs": [],
   "source": [
    "def div42by(divideBy):\n",
    "    try:\n",
    "        return 42 / divideBy\n",
    "    except ZeroDivisionError:\n",
    "        print('Error: You tried to divide by zero.')"
   ]
  },
  {
   "cell_type": "code",
   "execution_count": 2,
   "metadata": {},
   "outputs": [
    {
     "name": "stdout",
     "output_type": "stream",
     "text": [
      "21.0\n",
      "3.5\n",
      "Error: You tried to divide by zero.\n",
      "None\n",
      "42.0\n"
     ]
    }
   ],
   "source": [
    "print(div42by(2))\n",
    "print(div42by(12))\n",
    "print(div42by(0))\n",
    "print(div42by(1))"
   ]
  },
  {
   "cell_type": "code",
   "execution_count": 8,
   "metadata": {},
   "outputs": [
    {
     "name": "stdout",
     "output_type": "stream",
     "text": [
      "How many cats do you have?\n",
      "six\n",
      "You did not enter a number.\n"
     ]
    }
   ],
   "source": [
    "print('How many cats do you have?')\n",
    "numCats = input()\n",
    "try:\n",
    "    if int(numCats) >= 4:\n",
    "        print('That is a lot of cats!')\n",
    "    elif int(numCats) < 0:\n",
    "        print('Are they dead?')\n",
    "    else: \n",
    "        print('That is not that many cats.')\n",
    "except ValueError:\n",
    "    print('You did not enter a number.')"
   ]
  },
  {
   "cell_type": "code",
   "execution_count": 12,
   "metadata": {},
   "outputs": [
    {
     "name": "stdout",
     "output_type": "stream",
     "text": [
      "Hello. What is your name?\n",
      "Soane\n",
      "Well Soane, I am thinking of a number between 0 and 20\n",
      "Take a guess.\n",
      "15\n",
      "Your guess is too high.\n",
      "Take a guess.\n",
      "10\n",
      "Your guess is too high.\n",
      "Take a guess.\n",
      "5\n",
      "Your guess is too low.\n",
      "Take a guess.\n",
      "7\n",
      "Your guess is too low.\n",
      "Take a guess.\n",
      "8\n",
      "Your guess is too low.\n",
      "Take a guess.\n",
      "9\n",
      "Good job, Soane! You guessed my number in 6 guesses!\n"
     ]
    }
   ],
   "source": [
    "# This is a guess the number game.\n",
    "import random\n",
    "\n",
    "print('Hello. What is your name?')\n",
    "name = input()\n",
    "\n",
    "print('Well ' + name + ', I am thinking of a number between 0 and 20')\n",
    "secretNumber = random.randint(1,20)\n",
    "\n",
    "for guessesTaken in range(1,7):\n",
    "    print('Take a guess.')\n",
    "    guess = int(input())\n",
    "    \n",
    "    if guess < secretNumber:\n",
    "        print('Your guess is too low.')\n",
    "    elif guess > secretNumber:\n",
    "        print('Your guess is too high.')\n",
    "    else:\n",
    "        break # This condition is for correct guess!\n",
    "\n",
    "if guess == secretNumber:\n",
    "    print('Good job, ' + name + '! You guessed my number in ' + str(guessesTaken) + ' guesses!')\n",
    "else:\n",
    "    print('Nope. The number I was thinking of was ' + str(secretNumber))\n",
    "    \n",
    "    \n",
    "#print('You took ' + str(guessesTaken) + ' guesses.')"
   ]
  },
  {
   "cell_type": "code",
   "execution_count": 14,
   "metadata": {},
   "outputs": [
    {
     "data": {
      "text/plain": [
       "'The elephant is afraid of the bat.'"
      ]
     },
     "execution_count": 14,
     "metadata": {},
     "output_type": "execute_result"
    }
   ],
   "source": [
    "spam = ['cat','bat', 'rat','elephant']\n",
    "spam1 = [1,2,3,4,5]\n",
    "\n",
    "'The ' + spam[-1] + ' is afraid of the '+ spam[-3] + '.' \n"
   ]
  },
  {
   "cell_type": "code",
   "execution_count": 15,
   "metadata": {},
   "outputs": [
    {
     "ename": "TypeError",
     "evalue": "must be str, not int",
     "output_type": "error",
     "traceback": [
      "\u001b[1;31m---------------------------------------------------------------------------\u001b[0m",
      "\u001b[1;31mTypeError\u001b[0m                                 Traceback (most recent call last)",
      "\u001b[1;32m<ipython-input-15-f89b8ef457b7>\u001b[0m in \u001b[0;36m<module>\u001b[1;34m()\u001b[0m\n\u001b[1;32m----> 1\u001b[1;33m \u001b[1;34m'The '\u001b[0m \u001b[1;33m+\u001b[0m \u001b[0mspam1\u001b[0m\u001b[1;33m[\u001b[0m\u001b[1;33m-\u001b[0m\u001b[1;36m1\u001b[0m\u001b[1;33m]\u001b[0m \u001b[1;33m+\u001b[0m \u001b[1;34m' is afraid of the '\u001b[0m\u001b[1;33m+\u001b[0m \u001b[0mspam1\u001b[0m\u001b[1;33m[\u001b[0m\u001b[1;33m-\u001b[0m\u001b[1;36m3\u001b[0m\u001b[1;33m]\u001b[0m \u001b[1;33m+\u001b[0m \u001b[1;34m'.'\u001b[0m\u001b[1;33m\u001b[0m\u001b[0m\n\u001b[0m",
      "\u001b[1;31mTypeError\u001b[0m: must be str, not int"
     ]
    }
   ],
   "source": [
    "'The ' + spam1[-1] + ' is afraid of the '+ spam1[-3] + '.' "
   ]
  },
  {
   "cell_type": "code",
   "execution_count": null,
   "metadata": {},
   "outputs": [],
   "source": []
  },
  {
   "cell_type": "code",
   "execution_count": null,
   "metadata": {},
   "outputs": [],
   "source": []
  },
  {
   "cell_type": "code",
   "execution_count": null,
   "metadata": {},
   "outputs": [],
   "source": []
  },
  {
   "cell_type": "code",
   "execution_count": null,
   "metadata": {},
   "outputs": [],
   "source": []
  }
 ],
 "metadata": {
  "kernelspec": {
   "display_name": "Python [conda env:Anaconda3]",
   "language": "python",
   "name": "conda-env-Anaconda3-py"
  },
  "language_info": {
   "codemirror_mode": {
    "name": "ipython",
    "version": 3
   },
   "file_extension": ".py",
   "mimetype": "text/x-python",
   "name": "python",
   "nbconvert_exporter": "python",
   "pygments_lexer": "ipython3",
   "version": "3.6.6"
  }
 },
 "nbformat": 4,
 "nbformat_minor": 2
}
